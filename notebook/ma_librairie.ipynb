{
 "cells": [
  {
   "cell_type": "code",
   "execution_count": 1,
   "id": "505c13d1-791c-4948-b273-cbb75faa0460",
   "metadata": {},
   "outputs": [],
   "source": [
    "import re\n",
    "import duckdb"
   ]
  },
  {
   "cell_type": "code",
   "execution_count": 2,
   "id": "3afc47f5-c13e-4f98-b8a0-810b5d47aea8",
   "metadata": {},
   "outputs": [],
   "source": [
    "# queries = [\n",
    "#     \"drop table if exists livres;\",\n",
    "#     \"drop table if exists auteurs;\",\n",
    "# \"\"\"CREATE OR REPLACE TABLE auteurs (\n",
    "#     auteur_id INTEGER PRIMARY KEY,\n",
    "#     nom VARCHAR,\n",
    "#     nationalite VARCHAR\n",
    "# );\"\"\",\n",
    "# \"\"\"CREATE OR REPLACE TABLE livres (\n",
    "#     livre_id INTEGER PRIMARY KEY,\n",
    "#     titre VARCHAR,\n",
    "#     auteur_id INTEGER,\n",
    "#     genre VARCHAR,\n",
    "#     prix DECIMAL(10, 2),\n",
    "#     CONSTRAINT fk_auteur\n",
    "#         FOREIGN KEY (auteur_id)\n",
    "#         REFERENCES auteurs(auteur_id)\n",
    "# );\"\"\",\n",
    "\n",
    "# \"\"\"INSERT INTO auteurs (auteur_id, nom, nationalite)\n",
    "# VALUES\n",
    "#     (1, 'George Orwell', 'Britannique'),\n",
    "#     (2, 'Ursula K. Le Guin', 'Américaine'),\n",
    "#     (3, 'Yuval Noah Harari', 'Israélien');\"\"\",\n",
    "# \"\"\"INSERT INTO livres (livre_id, titre, auteur_id, genre, prix)\n",
    "# VALUES\n",
    "#     (101, '1984', 1, 'Science-Fiction / Dystopie', 12.50),\n",
    "#     (102, 'La Ferme des Animaux', 1, 'Satire', 10.00),\n",
    "#     (201, 'Les Dépossédés', 2, 'Science-Fiction', 14.00),\n",
    "#     (202, 'La Main Gauche de la Nuit', 2, 'Science-Fiction', 13.50),\n",
    "#     (301, 'Sapiens : Une Brève Histoire de l''humanité', 3, 'Histoire', 20.00),\n",
    "#     (302, 'Homo Deus : Une Brève Histoire du futur', 3, 'Histoire / Philosophie', 21.50);\"\"\"\n",
    "# ]"
   ]
  },
  {
   "cell_type": "code",
   "execution_count": 3,
   "id": "eade694c",
   "metadata": {},
   "outputs": [],
   "source": [
    "con = duckdb.connect(r'../database/ma_librairie.db')"
   ]
  },
  {
   "cell_type": "code",
   "execution_count": 4,
   "id": "a7e2d1cb",
   "metadata": {},
   "outputs": [],
   "source": [
    "with open(r\"../sql/ma_librairie.sql\") as f:\n",
    "    queries = f.read()"
   ]
  },
  {
   "cell_type": "code",
   "execution_count": 5,
   "id": "f5a21d27",
   "metadata": {},
   "outputs": [
    {
     "name": "stdout",
     "output_type": "stream",
     "text": [
      "0 DROP TABLE IF EXISTS livres\n",
      "1 \n",
      "\n",
      "DROP TABLE IF EXISTS auteurs\n",
      "2 \n",
      "\n",
      "CREATE\n",
      "OR REPLACE TABLE auteurs (\n",
      "    auteur_id INTEGER PRIMARY KEY,\n",
      "    nom VARCHAR,\n",
      "    nationalite VARCHAR\n",
      ")\n",
      "3 \n",
      "\n",
      "CREATE\n",
      "OR REPLACE TABLE livres (\n",
      "    livre_id INTEGER PRIMARY KEY,\n",
      "    titre VARCHAR,\n",
      "    auteur_id INTEGER,\n",
      "    genre VARCHAR,\n",
      "    prix DECIMAL(10, 2),\n",
      "    CONSTRAINT fk_auteur FOREIGN KEY (auteur_id) REFERENCES auteurs (auteur_id)\n",
      ")\n",
      "4 \n",
      "\n",
      "INSERT INTO\n",
      "    auteurs (auteur_id, nom, nationalite)\n",
      "VALUES\n",
      "    (1, 'George Orwell', 'Britannique'),\n",
      "    (2, 'Ursula K. Le Guin', 'Américaine'),\n",
      "    (3, 'Yuval Noah Harari', 'Israélien')\n",
      "5 \n",
      "\n",
      "INSERT INTO\n",
      "    livres (livre_id, titre, auteur_id, genre, prix)\n",
      "VALUES\n",
      "    (\n",
      "        101,\n",
      "        '1984',\n",
      "        1,\n",
      "        'Science-Fiction / Dystopie',\n",
      "        12.50\n",
      "    ),\n",
      "    (102, 'La Ferme des Animaux', 1, 'Satire', 10.00),\n",
      "    (\n",
      "        201,\n",
      "        'Les Dépossédés',\n",
      "        2,\n",
      "        'Science-Fiction',\n",
      "        14.00\n",
      "    ),\n",
      "    (\n",
      "        202,\n",
      "        'La Main Gauche de la Nuit',\n",
      "        2,\n",
      "        'Science-Fiction',\n",
      "        13.50\n",
      "    ),\n",
      "    (\n",
      "        301,\n",
      "        'Sapiens : Une Brève Histoire de l''humanité',\n",
      "        3,\n",
      "        'Histoire',\n",
      "        20.00\n",
      "    ),\n",
      "    (\n",
      "        302,\n",
      "        'Homo Deus : Une Brève Histoire du futur',\n",
      "        3,\n",
      "        'Histoire / Philosophie',\n",
      "        21.50\n",
      "    )\n",
      "6 \n"
     ]
    }
   ],
   "source": [
    "for ind, query in enumerate(queries.split(\";\")):\n",
    "    print(ind, query)\n",
    "    con.execute(query)"
   ]
  },
  {
   "cell_type": "code",
   "execution_count": 6,
   "id": "608568ab-6600-4ffb-8754-25a093cc5189",
   "metadata": {},
   "outputs": [
    {
     "name": "stdout",
     "output_type": "stream",
     "text": [
      "┌─────────┐\n",
      "│  name   │\n",
      "│ varchar │\n",
      "├─────────┤\n",
      "│ auteurs │\n",
      "│ livres  │\n",
      "└─────────┘\n",
      "\n"
     ]
    }
   ],
   "source": [
    "con.sql(\"show tables\").show()"
   ]
  },
  {
   "cell_type": "code",
   "execution_count": 7,
   "id": "465eac01",
   "metadata": {},
   "outputs": [],
   "source": [
    "con.close()"
   ]
  },
  {
   "cell_type": "code",
   "execution_count": null,
   "id": "0700eecd",
   "metadata": {},
   "outputs": [],
   "source": []
  }
 ],
 "metadata": {
  "kernelspec": {
   "display_name": "duckdb",
   "language": "python",
   "name": "python3"
  },
  "language_info": {
   "codemirror_mode": {
    "name": "ipython",
    "version": 3
   },
   "file_extension": ".py",
   "mimetype": "text/x-python",
   "name": "python",
   "nbconvert_exporter": "python",
   "pygments_lexer": "ipython3",
   "version": "3.11.13"
  }
 },
 "nbformat": 4,
 "nbformat_minor": 5
}
