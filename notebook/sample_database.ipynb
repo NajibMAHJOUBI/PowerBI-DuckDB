{
 "cells": [
  {
   "cell_type": "code",
   "execution_count": 1,
   "id": "9e3d0c09",
   "metadata": {},
   "outputs": [],
   "source": [
    "import duckdb"
   ]
  },
  {
   "cell_type": "code",
   "execution_count": 2,
   "id": "4529deb7",
   "metadata": {},
   "outputs": [],
   "source": [
    "con = duckdb.connect('ma_librairie.db')"
   ]
  },
  {
   "cell_type": "code",
   "execution_count": 3,
   "id": "1cf305e4",
   "metadata": {},
   "outputs": [
    {
     "data": {
      "application/vnd.microsoft.datawrangler.viewer.v0+json": {
       "columns": [
        {
         "name": "index",
         "rawType": "int64",
         "type": "integer"
        },
        {
         "name": "livre_id",
         "rawType": "int32",
         "type": "integer"
        },
        {
         "name": "titre",
         "rawType": "object",
         "type": "string"
        },
        {
         "name": "auteur_id",
         "rawType": "int32",
         "type": "integer"
        },
        {
         "name": "genre",
         "rawType": "object",
         "type": "string"
        },
        {
         "name": "prix",
         "rawType": "float64",
         "type": "float"
        }
       ],
       "ref": "bd067583-6409-4fd5-b6e2-a98de55560b5",
       "rows": [
        [
         "0",
         "101",
         "1984",
         "1",
         "Science-Fiction / Dystopie",
         "12.5"
        ],
        [
         "1",
         "102",
         "La Ferme des Animaux",
         "1",
         "Satire",
         "10.0"
        ],
        [
         "2",
         "201",
         "Les Dépossédés",
         "2",
         "Science-Fiction",
         "14.0"
        ],
        [
         "3",
         "202",
         "La Main Gauche de la Nuit",
         "2",
         "Science-Fiction",
         "13.5"
        ],
        [
         "4",
         "301",
         "Sapiens : Une Brève Histoire de l'humanité",
         "3",
         "Histoire",
         "20.0"
        ],
        [
         "5",
         "302",
         "Homo Deus : Une Brève Histoire du futur",
         "3",
         "Histoire / Philosophie",
         "21.5"
        ]
       ],
       "shape": {
        "columns": 5,
        "rows": 6
       }
      },
      "text/html": [
       "<div>\n",
       "<style scoped>\n",
       "    .dataframe tbody tr th:only-of-type {\n",
       "        vertical-align: middle;\n",
       "    }\n",
       "\n",
       "    .dataframe tbody tr th {\n",
       "        vertical-align: top;\n",
       "    }\n",
       "\n",
       "    .dataframe thead th {\n",
       "        text-align: right;\n",
       "    }\n",
       "</style>\n",
       "<table border=\"1\" class=\"dataframe\">\n",
       "  <thead>\n",
       "    <tr style=\"text-align: right;\">\n",
       "      <th></th>\n",
       "      <th>livre_id</th>\n",
       "      <th>titre</th>\n",
       "      <th>auteur_id</th>\n",
       "      <th>genre</th>\n",
       "      <th>prix</th>\n",
       "    </tr>\n",
       "  </thead>\n",
       "  <tbody>\n",
       "    <tr>\n",
       "      <th>0</th>\n",
       "      <td>101</td>\n",
       "      <td>1984</td>\n",
       "      <td>1</td>\n",
       "      <td>Science-Fiction / Dystopie</td>\n",
       "      <td>12.5</td>\n",
       "    </tr>\n",
       "    <tr>\n",
       "      <th>1</th>\n",
       "      <td>102</td>\n",
       "      <td>La Ferme des Animaux</td>\n",
       "      <td>1</td>\n",
       "      <td>Satire</td>\n",
       "      <td>10.0</td>\n",
       "    </tr>\n",
       "    <tr>\n",
       "      <th>2</th>\n",
       "      <td>201</td>\n",
       "      <td>Les Dépossédés</td>\n",
       "      <td>2</td>\n",
       "      <td>Science-Fiction</td>\n",
       "      <td>14.0</td>\n",
       "    </tr>\n",
       "    <tr>\n",
       "      <th>3</th>\n",
       "      <td>202</td>\n",
       "      <td>La Main Gauche de la Nuit</td>\n",
       "      <td>2</td>\n",
       "      <td>Science-Fiction</td>\n",
       "      <td>13.5</td>\n",
       "    </tr>\n",
       "    <tr>\n",
       "      <th>4</th>\n",
       "      <td>301</td>\n",
       "      <td>Sapiens : Une Brève Histoire de l'humanité</td>\n",
       "      <td>3</td>\n",
       "      <td>Histoire</td>\n",
       "      <td>20.0</td>\n",
       "    </tr>\n",
       "    <tr>\n",
       "      <th>5</th>\n",
       "      <td>302</td>\n",
       "      <td>Homo Deus : Une Brève Histoire du futur</td>\n",
       "      <td>3</td>\n",
       "      <td>Histoire / Philosophie</td>\n",
       "      <td>21.5</td>\n",
       "    </tr>\n",
       "  </tbody>\n",
       "</table>\n",
       "</div>"
      ],
      "text/plain": [
       "   livre_id                                       titre  auteur_id  \\\n",
       "0       101                                        1984          1   \n",
       "1       102                        La Ferme des Animaux          1   \n",
       "2       201                              Les Dépossédés          2   \n",
       "3       202                   La Main Gauche de la Nuit          2   \n",
       "4       301  Sapiens : Une Brève Histoire de l'humanité          3   \n",
       "5       302     Homo Deus : Une Brève Histoire du futur          3   \n",
       "\n",
       "                        genre  prix  \n",
       "0  Science-Fiction / Dystopie  12.5  \n",
       "1                      Satire  10.0  \n",
       "2             Science-Fiction  14.0  \n",
       "3             Science-Fiction  13.5  \n",
       "4                    Histoire  20.0  \n",
       "5      Histoire / Philosophie  21.5  "
      ]
     },
     "execution_count": 3,
     "metadata": {},
     "output_type": "execute_result"
    }
   ],
   "source": [
    "con.execute(\"SELECT * FROM livres;\").fetchdf()"
   ]
  },
  {
   "cell_type": "code",
   "execution_count": 4,
   "id": "e7bafaa6",
   "metadata": {},
   "outputs": [
    {
     "data": {
      "application/vnd.microsoft.datawrangler.viewer.v0+json": {
       "columns": [
        {
         "name": "index",
         "rawType": "int64",
         "type": "integer"
        },
        {
         "name": "auteur_id",
         "rawType": "int32",
         "type": "integer"
        },
        {
         "name": "nom",
         "rawType": "object",
         "type": "string"
        },
        {
         "name": "nationalite",
         "rawType": "object",
         "type": "string"
        }
       ],
       "ref": "54ec769f-12c6-4b48-be17-d91ff111e319",
       "rows": [
        [
         "0",
         "1",
         "George Orwell",
         "Britannique"
        ],
        [
         "1",
         "2",
         "Ursula K. Le Guin",
         "Américaine"
        ],
        [
         "2",
         "3",
         "Yuval Noah Harari",
         "Israélien"
        ]
       ],
       "shape": {
        "columns": 3,
        "rows": 3
       }
      },
      "text/html": [
       "<div>\n",
       "<style scoped>\n",
       "    .dataframe tbody tr th:only-of-type {\n",
       "        vertical-align: middle;\n",
       "    }\n",
       "\n",
       "    .dataframe tbody tr th {\n",
       "        vertical-align: top;\n",
       "    }\n",
       "\n",
       "    .dataframe thead th {\n",
       "        text-align: right;\n",
       "    }\n",
       "</style>\n",
       "<table border=\"1\" class=\"dataframe\">\n",
       "  <thead>\n",
       "    <tr style=\"text-align: right;\">\n",
       "      <th></th>\n",
       "      <th>auteur_id</th>\n",
       "      <th>nom</th>\n",
       "      <th>nationalite</th>\n",
       "    </tr>\n",
       "  </thead>\n",
       "  <tbody>\n",
       "    <tr>\n",
       "      <th>0</th>\n",
       "      <td>1</td>\n",
       "      <td>George Orwell</td>\n",
       "      <td>Britannique</td>\n",
       "    </tr>\n",
       "    <tr>\n",
       "      <th>1</th>\n",
       "      <td>2</td>\n",
       "      <td>Ursula K. Le Guin</td>\n",
       "      <td>Américaine</td>\n",
       "    </tr>\n",
       "    <tr>\n",
       "      <th>2</th>\n",
       "      <td>3</td>\n",
       "      <td>Yuval Noah Harari</td>\n",
       "      <td>Israélien</td>\n",
       "    </tr>\n",
       "  </tbody>\n",
       "</table>\n",
       "</div>"
      ],
      "text/plain": [
       "   auteur_id                nom  nationalite\n",
       "0          1      George Orwell  Britannique\n",
       "1          2  Ursula K. Le Guin   Américaine\n",
       "2          3  Yuval Noah Harari    Israélien"
      ]
     },
     "execution_count": 4,
     "metadata": {},
     "output_type": "execute_result"
    }
   ],
   "source": [
    "con.execute(\"SELECT * FROM auteurs;\").fetchdf()"
   ]
  },
  {
   "cell_type": "code",
   "execution_count": 5,
   "id": "68396c30",
   "metadata": {},
   "outputs": [
    {
     "data": {
      "application/vnd.microsoft.datawrangler.viewer.v0+json": {
       "columns": [
        {
         "name": "index",
         "rawType": "int64",
         "type": "integer"
        },
        {
         "name": "column_name",
         "rawType": "object",
         "type": "string"
        },
        {
         "name": "column_type",
         "rawType": "object",
         "type": "string"
        },
        {
         "name": "null",
         "rawType": "object",
         "type": "string"
        },
        {
         "name": "key",
         "rawType": "object",
         "type": "unknown"
        },
        {
         "name": "default",
         "rawType": "object",
         "type": "unknown"
        },
        {
         "name": "extra",
         "rawType": "object",
         "type": "unknown"
        }
       ],
       "ref": "a58e92d9-d2e4-4959-ba31-6ebd4d1c30cb",
       "rows": [
        [
         "0",
         "auteur_id",
         "INTEGER",
         "NO",
         "PRI",
         null,
         null
        ],
        [
         "1",
         "nom",
         "VARCHAR",
         "YES",
         null,
         null,
         null
        ],
        [
         "2",
         "nationalite",
         "VARCHAR",
         "YES",
         null,
         null,
         null
        ]
       ],
       "shape": {
        "columns": 6,
        "rows": 3
       }
      },
      "text/html": [
       "<div>\n",
       "<style scoped>\n",
       "    .dataframe tbody tr th:only-of-type {\n",
       "        vertical-align: middle;\n",
       "    }\n",
       "\n",
       "    .dataframe tbody tr th {\n",
       "        vertical-align: top;\n",
       "    }\n",
       "\n",
       "    .dataframe thead th {\n",
       "        text-align: right;\n",
       "    }\n",
       "</style>\n",
       "<table border=\"1\" class=\"dataframe\">\n",
       "  <thead>\n",
       "    <tr style=\"text-align: right;\">\n",
       "      <th></th>\n",
       "      <th>column_name</th>\n",
       "      <th>column_type</th>\n",
       "      <th>null</th>\n",
       "      <th>key</th>\n",
       "      <th>default</th>\n",
       "      <th>extra</th>\n",
       "    </tr>\n",
       "  </thead>\n",
       "  <tbody>\n",
       "    <tr>\n",
       "      <th>0</th>\n",
       "      <td>auteur_id</td>\n",
       "      <td>INTEGER</td>\n",
       "      <td>NO</td>\n",
       "      <td>PRI</td>\n",
       "      <td>None</td>\n",
       "      <td>None</td>\n",
       "    </tr>\n",
       "    <tr>\n",
       "      <th>1</th>\n",
       "      <td>nom</td>\n",
       "      <td>VARCHAR</td>\n",
       "      <td>YES</td>\n",
       "      <td>None</td>\n",
       "      <td>None</td>\n",
       "      <td>None</td>\n",
       "    </tr>\n",
       "    <tr>\n",
       "      <th>2</th>\n",
       "      <td>nationalite</td>\n",
       "      <td>VARCHAR</td>\n",
       "      <td>YES</td>\n",
       "      <td>None</td>\n",
       "      <td>None</td>\n",
       "      <td>None</td>\n",
       "    </tr>\n",
       "  </tbody>\n",
       "</table>\n",
       "</div>"
      ],
      "text/plain": [
       "   column_name column_type null   key default extra\n",
       "0    auteur_id     INTEGER   NO   PRI    None  None\n",
       "1          nom     VARCHAR  YES  None    None  None\n",
       "2  nationalite     VARCHAR  YES  None    None  None"
      ]
     },
     "execution_count": 5,
     "metadata": {},
     "output_type": "execute_result"
    }
   ],
   "source": [
    "con.execute(\"DESCRIBE auteurs;\").fetchdf()"
   ]
  },
  {
   "cell_type": "code",
   "execution_count": 6,
   "id": "9707d263",
   "metadata": {},
   "outputs": [
    {
     "data": {
      "application/vnd.microsoft.datawrangler.viewer.v0+json": {
       "columns": [
        {
         "name": "index",
         "rawType": "int64",
         "type": "integer"
        },
        {
         "name": "column_name",
         "rawType": "object",
         "type": "string"
        },
        {
         "name": "column_type",
         "rawType": "object",
         "type": "string"
        },
        {
         "name": "null",
         "rawType": "object",
         "type": "string"
        },
        {
         "name": "key",
         "rawType": "object",
         "type": "unknown"
        },
        {
         "name": "default",
         "rawType": "object",
         "type": "unknown"
        },
        {
         "name": "extra",
         "rawType": "object",
         "type": "unknown"
        }
       ],
       "ref": "0d0633d6-7c46-4f2d-982c-4c902aec509a",
       "rows": [
        [
         "0",
         "livre_id",
         "INTEGER",
         "NO",
         "PRI",
         null,
         null
        ],
        [
         "1",
         "titre",
         "VARCHAR",
         "YES",
         null,
         null,
         null
        ],
        [
         "2",
         "auteur_id",
         "INTEGER",
         "YES",
         null,
         null,
         null
        ],
        [
         "3",
         "genre",
         "VARCHAR",
         "YES",
         null,
         null,
         null
        ],
        [
         "4",
         "prix",
         "DECIMAL(10,2)",
         "YES",
         null,
         null,
         null
        ]
       ],
       "shape": {
        "columns": 6,
        "rows": 5
       }
      },
      "text/html": [
       "<div>\n",
       "<style scoped>\n",
       "    .dataframe tbody tr th:only-of-type {\n",
       "        vertical-align: middle;\n",
       "    }\n",
       "\n",
       "    .dataframe tbody tr th {\n",
       "        vertical-align: top;\n",
       "    }\n",
       "\n",
       "    .dataframe thead th {\n",
       "        text-align: right;\n",
       "    }\n",
       "</style>\n",
       "<table border=\"1\" class=\"dataframe\">\n",
       "  <thead>\n",
       "    <tr style=\"text-align: right;\">\n",
       "      <th></th>\n",
       "      <th>column_name</th>\n",
       "      <th>column_type</th>\n",
       "      <th>null</th>\n",
       "      <th>key</th>\n",
       "      <th>default</th>\n",
       "      <th>extra</th>\n",
       "    </tr>\n",
       "  </thead>\n",
       "  <tbody>\n",
       "    <tr>\n",
       "      <th>0</th>\n",
       "      <td>livre_id</td>\n",
       "      <td>INTEGER</td>\n",
       "      <td>NO</td>\n",
       "      <td>PRI</td>\n",
       "      <td>None</td>\n",
       "      <td>None</td>\n",
       "    </tr>\n",
       "    <tr>\n",
       "      <th>1</th>\n",
       "      <td>titre</td>\n",
       "      <td>VARCHAR</td>\n",
       "      <td>YES</td>\n",
       "      <td>None</td>\n",
       "      <td>None</td>\n",
       "      <td>None</td>\n",
       "    </tr>\n",
       "    <tr>\n",
       "      <th>2</th>\n",
       "      <td>auteur_id</td>\n",
       "      <td>INTEGER</td>\n",
       "      <td>YES</td>\n",
       "      <td>None</td>\n",
       "      <td>None</td>\n",
       "      <td>None</td>\n",
       "    </tr>\n",
       "    <tr>\n",
       "      <th>3</th>\n",
       "      <td>genre</td>\n",
       "      <td>VARCHAR</td>\n",
       "      <td>YES</td>\n",
       "      <td>None</td>\n",
       "      <td>None</td>\n",
       "      <td>None</td>\n",
       "    </tr>\n",
       "    <tr>\n",
       "      <th>4</th>\n",
       "      <td>prix</td>\n",
       "      <td>DECIMAL(10,2)</td>\n",
       "      <td>YES</td>\n",
       "      <td>None</td>\n",
       "      <td>None</td>\n",
       "      <td>None</td>\n",
       "    </tr>\n",
       "  </tbody>\n",
       "</table>\n",
       "</div>"
      ],
      "text/plain": [
       "  column_name    column_type null   key default extra\n",
       "0    livre_id        INTEGER   NO   PRI    None  None\n",
       "1       titre        VARCHAR  YES  None    None  None\n",
       "2   auteur_id        INTEGER  YES  None    None  None\n",
       "3       genre        VARCHAR  YES  None    None  None\n",
       "4        prix  DECIMAL(10,2)  YES  None    None  None"
      ]
     },
     "execution_count": 6,
     "metadata": {},
     "output_type": "execute_result"
    }
   ],
   "source": [
    "con.execute(\"DESCRIBE livres;\").fetchdf()"
   ]
  },
  {
   "cell_type": "code",
   "execution_count": 8,
   "id": "71ab89a6",
   "metadata": {},
   "outputs": [
    {
     "data": {
      "application/vnd.microsoft.datawrangler.viewer.v0+json": {
       "columns": [
        {
         "name": "index",
         "rawType": "int64",
         "type": "integer"
        },
        {
         "name": "database_name",
         "rawType": "object",
         "type": "string"
        },
        {
         "name": "database_oid",
         "rawType": "int64",
         "type": "integer"
        },
        {
         "name": "schema_name",
         "rawType": "object",
         "type": "string"
        },
        {
         "name": "schema_oid",
         "rawType": "int64",
         "type": "integer"
        },
        {
         "name": "table_name",
         "rawType": "object",
         "type": "string"
        },
        {
         "name": "table_oid",
         "rawType": "int64",
         "type": "integer"
        },
        {
         "name": "constraint_index",
         "rawType": "int64",
         "type": "integer"
        },
        {
         "name": "constraint_type",
         "rawType": "object",
         "type": "string"
        },
        {
         "name": "constraint_text",
         "rawType": "object",
         "type": "string"
        },
        {
         "name": "expression",
         "rawType": "object",
         "type": "unknown"
        },
        {
         "name": "constraint_column_indexes",
         "rawType": "object",
         "type": "unknown"
        },
        {
         "name": "constraint_column_names",
         "rawType": "object",
         "type": "unknown"
        },
        {
         "name": "constraint_name",
         "rawType": "object",
         "type": "string"
        },
        {
         "name": "referenced_table",
         "rawType": "object",
         "type": "unknown"
        },
        {
         "name": "referenced_column_names",
         "rawType": "object",
         "type": "unknown"
        }
       ],
       "ref": "7bab4935-0179-4b88-a925-07e3976ea2f0",
       "rows": [
        [
         "0",
         "ma_librairie",
         "546",
         "main",
         "548",
         "auteurs",
         "558",
         "0",
         "PRIMARY KEY",
         "PRIMARY KEY(auteur_id)",
         null,
         "[0]",
         "['auteur_id']",
         "auteurs_auteur_id_pkey",
         null,
         "[]"
        ],
        [
         "1",
         "ma_librairie",
         "546",
         "main",
         "548",
         "auteurs",
         "558",
         "1",
         "NOT NULL",
         "NOT NULL",
         null,
         "[0]",
         "['auteur_id']",
         "auteurs_auteur_id_not_null",
         null,
         "[]"
        ],
        [
         "2",
         "ma_librairie",
         "546",
         "main",
         "548",
         "livres",
         "557",
         "2",
         "PRIMARY KEY",
         "PRIMARY KEY(livre_id)",
         null,
         "[0]",
         "['livre_id']",
         "livres_livre_id_pkey",
         null,
         "[]"
        ],
        [
         "3",
         "ma_librairie",
         "546",
         "main",
         "548",
         "livres",
         "557",
         "3",
         "FOREIGN KEY",
         "FOREIGN KEY (auteur_id) REFERENCES auteurs(auteur_id)",
         null,
         "[2]",
         "['auteur_id']",
         "livres_auteur_id_auteur_id_fkey",
         "auteurs",
         "['auteur_id']"
        ],
        [
         "4",
         "ma_librairie",
         "546",
         "main",
         "548",
         "livres",
         "557",
         "4",
         "NOT NULL",
         "NOT NULL",
         null,
         "[0]",
         "['livre_id']",
         "livres_livre_id_not_null",
         null,
         "[]"
        ]
       ],
       "shape": {
        "columns": 15,
        "rows": 5
       }
      },
      "text/html": [
       "<div>\n",
       "<style scoped>\n",
       "    .dataframe tbody tr th:only-of-type {\n",
       "        vertical-align: middle;\n",
       "    }\n",
       "\n",
       "    .dataframe tbody tr th {\n",
       "        vertical-align: top;\n",
       "    }\n",
       "\n",
       "    .dataframe thead th {\n",
       "        text-align: right;\n",
       "    }\n",
       "</style>\n",
       "<table border=\"1\" class=\"dataframe\">\n",
       "  <thead>\n",
       "    <tr style=\"text-align: right;\">\n",
       "      <th></th>\n",
       "      <th>database_name</th>\n",
       "      <th>database_oid</th>\n",
       "      <th>schema_name</th>\n",
       "      <th>schema_oid</th>\n",
       "      <th>table_name</th>\n",
       "      <th>table_oid</th>\n",
       "      <th>constraint_index</th>\n",
       "      <th>constraint_type</th>\n",
       "      <th>constraint_text</th>\n",
       "      <th>expression</th>\n",
       "      <th>constraint_column_indexes</th>\n",
       "      <th>constraint_column_names</th>\n",
       "      <th>constraint_name</th>\n",
       "      <th>referenced_table</th>\n",
       "      <th>referenced_column_names</th>\n",
       "    </tr>\n",
       "  </thead>\n",
       "  <tbody>\n",
       "    <tr>\n",
       "      <th>0</th>\n",
       "      <td>ma_librairie</td>\n",
       "      <td>546</td>\n",
       "      <td>main</td>\n",
       "      <td>548</td>\n",
       "      <td>auteurs</td>\n",
       "      <td>558</td>\n",
       "      <td>0</td>\n",
       "      <td>PRIMARY KEY</td>\n",
       "      <td>PRIMARY KEY(auteur_id)</td>\n",
       "      <td>None</td>\n",
       "      <td>[0]</td>\n",
       "      <td>[auteur_id]</td>\n",
       "      <td>auteurs_auteur_id_pkey</td>\n",
       "      <td>None</td>\n",
       "      <td>[]</td>\n",
       "    </tr>\n",
       "    <tr>\n",
       "      <th>1</th>\n",
       "      <td>ma_librairie</td>\n",
       "      <td>546</td>\n",
       "      <td>main</td>\n",
       "      <td>548</td>\n",
       "      <td>auteurs</td>\n",
       "      <td>558</td>\n",
       "      <td>1</td>\n",
       "      <td>NOT NULL</td>\n",
       "      <td>NOT NULL</td>\n",
       "      <td>None</td>\n",
       "      <td>[0]</td>\n",
       "      <td>[auteur_id]</td>\n",
       "      <td>auteurs_auteur_id_not_null</td>\n",
       "      <td>None</td>\n",
       "      <td>[]</td>\n",
       "    </tr>\n",
       "    <tr>\n",
       "      <th>2</th>\n",
       "      <td>ma_librairie</td>\n",
       "      <td>546</td>\n",
       "      <td>main</td>\n",
       "      <td>548</td>\n",
       "      <td>livres</td>\n",
       "      <td>557</td>\n",
       "      <td>2</td>\n",
       "      <td>PRIMARY KEY</td>\n",
       "      <td>PRIMARY KEY(livre_id)</td>\n",
       "      <td>None</td>\n",
       "      <td>[0]</td>\n",
       "      <td>[livre_id]</td>\n",
       "      <td>livres_livre_id_pkey</td>\n",
       "      <td>None</td>\n",
       "      <td>[]</td>\n",
       "    </tr>\n",
       "    <tr>\n",
       "      <th>3</th>\n",
       "      <td>ma_librairie</td>\n",
       "      <td>546</td>\n",
       "      <td>main</td>\n",
       "      <td>548</td>\n",
       "      <td>livres</td>\n",
       "      <td>557</td>\n",
       "      <td>3</td>\n",
       "      <td>FOREIGN KEY</td>\n",
       "      <td>FOREIGN KEY (auteur_id) REFERENCES auteurs(aut...</td>\n",
       "      <td>None</td>\n",
       "      <td>[2]</td>\n",
       "      <td>[auteur_id]</td>\n",
       "      <td>livres_auteur_id_auteur_id_fkey</td>\n",
       "      <td>auteurs</td>\n",
       "      <td>[auteur_id]</td>\n",
       "    </tr>\n",
       "    <tr>\n",
       "      <th>4</th>\n",
       "      <td>ma_librairie</td>\n",
       "      <td>546</td>\n",
       "      <td>main</td>\n",
       "      <td>548</td>\n",
       "      <td>livres</td>\n",
       "      <td>557</td>\n",
       "      <td>4</td>\n",
       "      <td>NOT NULL</td>\n",
       "      <td>NOT NULL</td>\n",
       "      <td>None</td>\n",
       "      <td>[0]</td>\n",
       "      <td>[livre_id]</td>\n",
       "      <td>livres_livre_id_not_null</td>\n",
       "      <td>None</td>\n",
       "      <td>[]</td>\n",
       "    </tr>\n",
       "  </tbody>\n",
       "</table>\n",
       "</div>"
      ],
      "text/plain": [
       "  database_name  database_oid schema_name  schema_oid table_name  table_oid  \\\n",
       "0  ma_librairie           546        main         548    auteurs        558   \n",
       "1  ma_librairie           546        main         548    auteurs        558   \n",
       "2  ma_librairie           546        main         548     livres        557   \n",
       "3  ma_librairie           546        main         548     livres        557   \n",
       "4  ma_librairie           546        main         548     livres        557   \n",
       "\n",
       "   constraint_index constraint_type  \\\n",
       "0                 0     PRIMARY KEY   \n",
       "1                 1        NOT NULL   \n",
       "2                 2     PRIMARY KEY   \n",
       "3                 3     FOREIGN KEY   \n",
       "4                 4        NOT NULL   \n",
       "\n",
       "                                     constraint_text expression  \\\n",
       "0                             PRIMARY KEY(auteur_id)       None   \n",
       "1                                           NOT NULL       None   \n",
       "2                              PRIMARY KEY(livre_id)       None   \n",
       "3  FOREIGN KEY (auteur_id) REFERENCES auteurs(aut...       None   \n",
       "4                                           NOT NULL       None   \n",
       "\n",
       "  constraint_column_indexes constraint_column_names  \\\n",
       "0                       [0]             [auteur_id]   \n",
       "1                       [0]             [auteur_id]   \n",
       "2                       [0]              [livre_id]   \n",
       "3                       [2]             [auteur_id]   \n",
       "4                       [0]              [livre_id]   \n",
       "\n",
       "                   constraint_name referenced_table referenced_column_names  \n",
       "0           auteurs_auteur_id_pkey             None                      []  \n",
       "1       auteurs_auteur_id_not_null             None                      []  \n",
       "2             livres_livre_id_pkey             None                      []  \n",
       "3  livres_auteur_id_auteur_id_fkey          auteurs             [auteur_id]  \n",
       "4         livres_livre_id_not_null             None                      []  "
      ]
     },
     "execution_count": 8,
     "metadata": {},
     "output_type": "execute_result"
    }
   ],
   "source": [
    "con.execute(\"SELECT * FROM duckdb_constraints();\").fetchdf()"
   ]
  },
  {
   "cell_type": "code",
   "execution_count": null,
   "id": "849624c3",
   "metadata": {},
   "outputs": [],
   "source": []
  }
 ],
 "metadata": {
  "kernelspec": {
   "display_name": "duckdb",
   "language": "python",
   "name": "python3"
  },
  "language_info": {
   "codemirror_mode": {
    "name": "ipython",
    "version": 3
   },
   "file_extension": ".py",
   "mimetype": "text/x-python",
   "name": "python",
   "nbconvert_exporter": "python",
   "pygments_lexer": "ipython3",
   "version": "3.11.13"
  }
 },
 "nbformat": 4,
 "nbformat_minor": 5
}
